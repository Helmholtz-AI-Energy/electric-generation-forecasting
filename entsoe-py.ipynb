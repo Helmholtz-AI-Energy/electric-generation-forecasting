{
 "cells": [
  {
   "cell_type": "code",
   "execution_count": 1,
   "id": "4f13787f",
   "metadata": {},
   "outputs": [],
   "source": [
    "from entsoe import EntsoePandasClient, EntsoeRawClient\n",
    "import pandas as pd"
   ]
  },
  {
   "cell_type": "code",
   "execution_count": 2,
   "id": "600034c0",
   "metadata": {},
   "outputs": [],
   "source": [
    "#client_pd = EntsoePandasClient(api_key=\"6e68642c-8403-4caa-af31-bda40b8c67f6\")\n",
    "client_raw = EntsoeRawClient(api_key=\"6e68642c-8403-4caa-af31-bda40b8c67f6\")\n",
    "\n",
    "#start = pd.Timestamp('20220601', tz='Europe/Berlin')\n",
    "#end = pd.Timestamp('20220701', tz='Europe/Berlin')\n",
    "#country_code = 'DE_LU'  # Belgium\n",
    "#country_code_from = 'FR'  # France\n",
    "#country_code_to = 'DE_LU' # Germany-Luxembourg\n",
    "#type_marketagreement_type = 'A01'\n",
    "#contract_marketagreement_type = \"A01\""
   ]
  },
  {
   "cell_type": "code",
   "execution_count": 3,
   "id": "9bd10ab4",
   "metadata": {},
   "outputs": [],
   "source": [
    "start = pd.Timestamp('20171201', tz='Europe/Brussels')\n",
    "end = pd.Timestamp('20180101', tz='Europe/Brussels')\n",
    "country_code = 'BE'  # Belgium\n",
    "#country_code_from = 'FR'  # France\n",
    "#country_code_to = 'DE_LU' # Germany-Luxembourg\n",
    "#type_marketagreement_type = 'A01'\n",
    "#contract_marketagreement_type = 'A01'"
   ]
  },
  {
   "cell_type": "code",
   "execution_count": 4,
   "id": "018cdad3",
   "metadata": {},
   "outputs": [
    {
     "ename": "PaginationError",
     "evalue": "The API is limited to 1 elements per request. This query requested for 31 documents and cannot be fulfilled as is.",
     "output_type": "error",
     "traceback": [
      "\u001b[0;31m---------------------------------------------------------------------------\u001b[0m",
      "\u001b[0;31mHTTPError\u001b[0m                                 Traceback (most recent call last)",
      "File \u001b[0;32m~/.venvs/entsoe/lib/python3.10/site-packages/entsoe/entsoe.py:98\u001b[0m, in \u001b[0;36mEntsoeRawClient._base_request\u001b[0;34m(self, params, start, end)\u001b[0m\n\u001b[1;32m     97\u001b[0m \u001b[38;5;28;01mtry\u001b[39;00m:\n\u001b[0;32m---> 98\u001b[0m     \u001b[43mresponse\u001b[49m\u001b[38;5;241;43m.\u001b[39;49m\u001b[43mraise_for_status\u001b[49m\u001b[43m(\u001b[49m\u001b[43m)\u001b[49m\n\u001b[1;32m     99\u001b[0m \u001b[38;5;28;01mexcept\u001b[39;00m requests\u001b[38;5;241m.\u001b[39mHTTPError \u001b[38;5;28;01mas\u001b[39;00m e:\n",
      "File \u001b[0;32m~/.venvs/entsoe/lib/python3.10/site-packages/requests/models.py:1021\u001b[0m, in \u001b[0;36mResponse.raise_for_status\u001b[0;34m(self)\u001b[0m\n\u001b[1;32m   1020\u001b[0m \u001b[38;5;28;01mif\u001b[39;00m http_error_msg:\n\u001b[0;32m-> 1021\u001b[0m     \u001b[38;5;28;01mraise\u001b[39;00m HTTPError(http_error_msg, response\u001b[38;5;241m=\u001b[39m\u001b[38;5;28mself\u001b[39m)\n",
      "\u001b[0;31mHTTPError\u001b[0m: 400 Client Error: Bad Request for url: https://web-api.tp.entsoe.eu/api?documentType=A73&processType=A16&in_Domain=10YBE----------2&securityToken=6e68642c-8403-4caa-af31-bda40b8c67f6&periodStart=201711302300&periodEnd=201712312300",
      "\nDuring handling of the above exception, another exception occurred:\n",
      "\u001b[0;31mPaginationError\u001b[0m                           Traceback (most recent call last)",
      "Cell \u001b[0;32mIn[4], line 2\u001b[0m\n\u001b[1;32m      1\u001b[0m \u001b[38;5;66;03m# methods that return XML\u001b[39;00m\n\u001b[0;32m----> 2\u001b[0m \u001b[43mclient_raw\u001b[49m\u001b[38;5;241;43m.\u001b[39;49m\u001b[43mquery_generation_per_plant\u001b[49m\u001b[43m(\u001b[49m\u001b[43mcountry_code\u001b[49m\u001b[43m,\u001b[49m\u001b[43m \u001b[49m\u001b[43mstart\u001b[49m\u001b[38;5;241;43m=\u001b[39;49m\u001b[43mstart\u001b[49m\u001b[43m,\u001b[49m\u001b[43m \u001b[49m\u001b[43mend\u001b[49m\u001b[38;5;241;43m=\u001b[39;49m\u001b[43mend\u001b[49m\u001b[43m,\u001b[49m\u001b[43m \u001b[49m\u001b[43mpsr_type\u001b[49m\u001b[38;5;241;43m=\u001b[39;49m\u001b[38;5;28;43;01mNone\u001b[39;49;00m\u001b[43m)\u001b[49m\n",
      "File \u001b[0;32m~/.venvs/entsoe/lib/python3.10/site-packages/entsoe/entsoe.py:359\u001b[0m, in \u001b[0;36mEntsoeRawClient.query_generation_per_plant\u001b[0;34m(self, country_code, start, end, psr_type, **kwargs)\u001b[0m\n\u001b[1;32m    357\u001b[0m \u001b[38;5;28;01mif\u001b[39;00m psr_type:\n\u001b[1;32m    358\u001b[0m     params\u001b[38;5;241m.\u001b[39mupdate({\u001b[38;5;124m'\u001b[39m\u001b[38;5;124mpsrType\u001b[39m\u001b[38;5;124m'\u001b[39m: psr_type})\n\u001b[0;32m--> 359\u001b[0m response \u001b[38;5;241m=\u001b[39m \u001b[38;5;28;43mself\u001b[39;49m\u001b[38;5;241;43m.\u001b[39;49m\u001b[43m_base_request\u001b[49m\u001b[43m(\u001b[49m\u001b[43mparams\u001b[49m\u001b[38;5;241;43m=\u001b[39;49m\u001b[43mparams\u001b[49m\u001b[43m,\u001b[49m\u001b[43m \u001b[49m\u001b[43mstart\u001b[49m\u001b[38;5;241;43m=\u001b[39;49m\u001b[43mstart\u001b[49m\u001b[43m,\u001b[49m\u001b[43m \u001b[49m\u001b[43mend\u001b[49m\u001b[38;5;241;43m=\u001b[39;49m\u001b[43mend\u001b[49m\u001b[43m)\u001b[49m\n\u001b[1;32m    360\u001b[0m \u001b[38;5;28;01mreturn\u001b[39;00m response\u001b[38;5;241m.\u001b[39mtext\n",
      "File \u001b[0;32m~/.venvs/entsoe/lib/python3.10/site-packages/entsoe/decorators.py:22\u001b[0m, in \u001b[0;36mretry.<locals>.retry_wrapper\u001b[0;34m(*args, **kwargs)\u001b[0m\n\u001b[1;32m     20\u001b[0m \u001b[38;5;28;01mfor\u001b[39;00m _ \u001b[38;5;129;01min\u001b[39;00m \u001b[38;5;28mrange\u001b[39m(\u001b[38;5;28mself\u001b[39m\u001b[38;5;241m.\u001b[39mretry_count):\n\u001b[1;32m     21\u001b[0m     \u001b[38;5;28;01mtry\u001b[39;00m:\n\u001b[0;32m---> 22\u001b[0m         result \u001b[38;5;241m=\u001b[39m \u001b[43mfunc\u001b[49m\u001b[43m(\u001b[49m\u001b[38;5;241;43m*\u001b[39;49m\u001b[43margs\u001b[49m\u001b[43m,\u001b[49m\u001b[43m \u001b[49m\u001b[38;5;241;43m*\u001b[39;49m\u001b[38;5;241;43m*\u001b[39;49m\u001b[43mkwargs\u001b[49m\u001b[43m)\u001b[49m\n\u001b[1;32m     23\u001b[0m     \u001b[38;5;28;01mexcept\u001b[39;00m (requests\u001b[38;5;241m.\u001b[39mConnectionError, gaierror) \u001b[38;5;28;01mas\u001b[39;00m e:\n\u001b[1;32m     24\u001b[0m         error \u001b[38;5;241m=\u001b[39m e\n",
      "File \u001b[0;32m~/.venvs/entsoe/lib/python3.10/site-packages/entsoe/entsoe.py:113\u001b[0m, in \u001b[0;36mEntsoeRawClient._base_request\u001b[0;34m(self, params, start, end)\u001b[0m\n\u001b[1;32m    111\u001b[0m     requested \u001b[38;5;241m=\u001b[39m error_text\u001b[38;5;241m.\u001b[39msplit(\u001b[38;5;124m'\u001b[39m\u001b[38;5;124m \u001b[39m\u001b[38;5;124m'\u001b[39m)[\u001b[38;5;241m-\u001b[39m\u001b[38;5;241m2\u001b[39m]\n\u001b[1;32m    112\u001b[0m     allowed \u001b[38;5;241m=\u001b[39m error_text\u001b[38;5;241m.\u001b[39msplit(\u001b[38;5;124m'\u001b[39m\u001b[38;5;124m \u001b[39m\u001b[38;5;124m'\u001b[39m)[\u001b[38;5;241m-\u001b[39m\u001b[38;5;241m5\u001b[39m]\n\u001b[0;32m--> 113\u001b[0m     \u001b[38;5;28;01mraise\u001b[39;00m PaginationError(\n\u001b[1;32m    114\u001b[0m         \u001b[38;5;124mf\u001b[39m\u001b[38;5;124m\"\u001b[39m\u001b[38;5;124mThe API is limited to \u001b[39m\u001b[38;5;132;01m{\u001b[39;00mallowed\u001b[38;5;132;01m}\u001b[39;00m\u001b[38;5;124m elements per \u001b[39m\u001b[38;5;124m\"\u001b[39m\n\u001b[1;32m    115\u001b[0m         \u001b[38;5;124mf\u001b[39m\u001b[38;5;124m\"\u001b[39m\u001b[38;5;124mrequest. This query requested for \u001b[39m\u001b[38;5;132;01m{\u001b[39;00mrequested\u001b[38;5;132;01m}\u001b[39;00m\u001b[38;5;124m \u001b[39m\u001b[38;5;124m\"\u001b[39m\n\u001b[1;32m    116\u001b[0m         \u001b[38;5;124mf\u001b[39m\u001b[38;5;124m\"\u001b[39m\u001b[38;5;124mdocuments and cannot be fulfilled as is.\u001b[39m\u001b[38;5;124m\"\u001b[39m)\n\u001b[1;32m    117\u001b[0m \u001b[38;5;28;01melif\u001b[39;00m \u001b[38;5;124m'\u001b[39m\u001b[38;5;124mrequested data to be gathered via the offset parameter exceeds the allowed limit\u001b[39m\u001b[38;5;124m'\u001b[39m \u001b[38;5;129;01min\u001b[39;00m error_text:\n\u001b[1;32m    118\u001b[0m     requested \u001b[38;5;241m=\u001b[39m error_text\u001b[38;5;241m.\u001b[39msplit(\u001b[38;5;124m'\u001b[39m\u001b[38;5;124m \u001b[39m\u001b[38;5;124m'\u001b[39m)[\u001b[38;5;241m-\u001b[39m\u001b[38;5;241m9\u001b[39m]\n",
      "\u001b[0;31mPaginationError\u001b[0m: The API is limited to 1 elements per request. This query requested for 31 documents and cannot be fulfilled as is."
     ]
    }
   ],
   "source": [
    "# methods that return XML\n",
    "client_raw.query_generation_per_plant(country_code, start=start, end=end, psr_type=None)"
   ]
  },
  {
   "cell_type": "code",
   "execution_count": null,
   "id": "66cd49be",
   "metadata": {},
   "outputs": [],
   "source": [
    "# methods that return Pandas DataFrames\n",
    "#client.query_load(country_code=country_code, start=start, end=end)\n",
    "client.query_generation_per_plant(country_code, start=start,end=end, psr_type=None)"
   ]
  },
  {
   "cell_type": "code",
   "execution_count": null,
   "id": "66239468",
   "metadata": {},
   "outputs": [],
   "source": []
  }
 ],
 "metadata": {
  "kernelspec": {
   "display_name": "Python 3 (ipykernel)",
   "language": "python",
   "name": "python3"
  },
  "language_info": {
   "codemirror_mode": {
    "name": "ipython",
    "version": 3
   },
   "file_extension": ".py",
   "mimetype": "text/x-python",
   "name": "python",
   "nbconvert_exporter": "python",
   "pygments_lexer": "ipython3",
   "version": "3.10.6"
  }
 },
 "nbformat": 4,
 "nbformat_minor": 5
}
