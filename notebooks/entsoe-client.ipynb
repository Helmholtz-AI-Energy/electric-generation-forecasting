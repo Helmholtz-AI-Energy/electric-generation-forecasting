{
 "cells": [
  {
   "cell_type": "code",
   "execution_count": 1,
   "id": "8be9047f",
   "metadata": {},
   "outputs": [],
   "source": [
    "import entsoe_client as ec\n",
    "from entsoe_client import ParameterTypes\n",
    "import pandas as pd"
   ]
  },
  {
   "cell_type": "code",
   "execution_count": 3,
   "id": "134ff377",
   "metadata": {},
   "outputs": [],
   "source": [
    "# Instantiate client implementing basic GET Request interface to ENTSOE API.\n",
    "# Requires an API Key for access.\n",
    "api_key = \"6e68642c-8403-4caa-af31-bda40b8c67f6\"\n",
    "client = ec.Client(api_key)\n",
    "\n",
    "# Query settings.\n",
    "periodStart = 202206010015\n",
    "periodEnd = 202206010230\n",
    "in_Domain = ec.ParameterTypes.Area('DE_LU')\n",
    "outBiddingZone_Domain = in_Domain\n",
    "\n",
    "# Set up parser to parse XML scheme into pandas dataframe.\n",
    "parser = ec.Parser()\n",
    "\n",
    "# Query actual aggregated generation per type.\n",
    "query_gen = ec.Queries.Generation.AggregatedGenerationPerType(\n",
    "    in_Domain=in_Domain,\n",
    "    periodStart=periodStart,\n",
    "    periodEnd=periodEnd)\n",
    "\n",
    "# Query actual total load.\n",
    "query_load = ec.Queries.Load.ActualTotalLoad(\n",
    "    outBiddingZone_Domain,\n",
    "    periodStart=periodStart,\n",
    "    periodEnd=periodEnd)"
   ]
  },
  {
   "cell_type": "code",
   "execution_count": 5,
   "id": "e6a6dc3a",
   "metadata": {},
   "outputs": [],
   "source": [
    "# Extract data.\n",
    "response_gen = client(query_gen)\n",
    "response_load = client(query_load)\n",
    "df_gen = parser.parse(response_gen)\n",
    "df_load = parser.parse(response_load)\n",
    "#df.to_csv(\"./test.csv\")"
   ]
  },
  {
   "cell_type": "code",
   "execution_count": 9,
   "id": "95f3d90f",
   "metadata": {},
   "outputs": [
    {
     "name": "stdout",
     "output_type": "stream",
     "text": [
      "Index(['position', 'quantity', 'Period.timeInterval.start',\n",
      "       'Period.timeInterval.end', 'Period.resolution', 'TimeSeries.mRID',\n",
      "       'TimeSeries.businessType', 'TimeSeries.objectAggregation',\n",
      "       'TimeSeries.outBiddingZone_Domain.mRID',\n",
      "       'TimeSeries.quantity_Measure_Unit.name', 'TimeSeries.curveType',\n",
      "       'GL_MarketDocument.mRID', 'GL_MarketDocument.revisionNumber',\n",
      "       'GL_MarketDocument.type', 'GL_MarketDocument.process.processType',\n",
      "       'GL_MarketDocument.sender_MarketParticipant.mRID',\n",
      "       'GL_MarketDocument.sender_MarketParticipant.marketRole.type',\n",
      "       'GL_MarketDocument.receiver_MarketParticipant.mRID',\n",
      "       'GL_MarketDocument.receiver_MarketParticipant.marketRole.type',\n",
      "       'GL_MarketDocument.createdDateTime',\n",
      "       'GL_MarketDocument.time_Period.timeInterval.start',\n",
      "       'GL_MarketDocument.time_Period.timeInterval.end'],\n",
      "      dtype='object')\n"
     ]
    }
   ],
   "source": [
    "print(df_load.columns)"
   ]
  },
  {
   "cell_type": "code",
   "execution_count": 11,
   "id": "96407705",
   "metadata": {},
   "outputs": [
    {
     "name": "stdout",
     "output_type": "stream",
     "text": [
      "2022-06-01 00:15:00+00:00    False\n",
      "2022-06-01 00:30:00+00:00    False\n",
      "2022-06-01 00:45:00+00:00    False\n",
      "2022-06-01 01:00:00+00:00    False\n",
      "2022-06-01 01:15:00+00:00    False\n",
      "                             ...  \n",
      "2022-06-01 01:15:00+00:00     True\n",
      "2022-06-01 01:30:00+00:00     True\n",
      "2022-06-01 01:45:00+00:00     True\n",
      "2022-06-01 02:00:00+00:00     True\n",
      "2022-06-01 02:15:00+00:00     True\n",
      "Name: TimeSeries.outBiddingZone_Domain.mRID, Length: 171, dtype: bool\n"
     ]
    }
   ],
   "source": [
    "consumption_mask = df_gen[\"TimeSeries.outBiddingZone_Domain.mRID\"].notna()\n",
    "# mRID: Document ID of the submitted Status Request Document. The mRID can be used for matching requests with responses.\n",
    "print(consumption_mask)\n",
    "production = df_gen[~consumption_mask][[\"quantity\", \"TimeSeries.MktPSRType.psrType\"]]\n",
    "#print(production.iloc[:,:10])\n",
    "#print(df.iloc[:,:10])\n",
    "#print(df.columns)\n",
    "#print(consumption_mask)\n",
    "#print(production)"
   ]
  },
  {
   "cell_type": "code",
   "execution_count": 7,
   "id": "91dc1c3a",
   "metadata": {},
   "outputs": [],
   "source": [
    "production[\"GenerationType\"] = production[\"TimeSeries.MktPSRType.psrType\"].apply(\n",
    "    lambda x: ParameterTypes.PsrType[x].value\n",
    ")  # Use ParameterTypes to transform ENTSO-E Code into readable string.\n",
    "production_by_type = pd.pivot_table(\n",
    "    production, index=production.index, columns=\"GenerationType\", values=\"quantity\"\n",
    ")"
   ]
  },
  {
   "cell_type": "code",
   "execution_count": 8,
   "id": "220d4b16",
   "metadata": {},
   "outputs": [
    {
     "name": "stdout",
     "output_type": "stream",
     "text": [
      "(144, 3)\n"
     ]
    }
   ],
   "source": [
    "print(production.shape)"
   ]
  },
  {
   "cell_type": "code",
   "execution_count": 7,
   "id": "93b485cf",
   "metadata": {},
   "outputs": [
    {
     "name": "stdout",
     "output_type": "stream",
     "text": [
      "GenerationType             Biomass  Fossil Brown coal / Lignite  Fossil Gas  \\\n",
      "2022-06-01 00:15:00+00:00   4411.0                      14696.0      7017.0   \n",
      "2022-06-01 00:30:00+00:00   4404.0                      14723.0      7058.0   \n",
      "2022-06-01 00:45:00+00:00   4388.0                      14634.0      7073.0   \n",
      "2022-06-01 01:00:00+00:00   4370.0                      14614.0      7177.0   \n",
      "2022-06-01 01:15:00+00:00   4379.0                      14577.0      7143.0   \n",
      "2022-06-01 01:30:00+00:00   4391.0                      14598.0      7148.0   \n",
      "2022-06-01 01:45:00+00:00   4397.0                      14603.0      7149.0   \n",
      "2022-06-01 02:00:00+00:00   4409.0                      14600.0      7207.0   \n",
      "2022-06-01 02:15:00+00:00   4414.0                      14600.0      7190.0   \n",
      "\n",
      "GenerationType             Fossil Hard coal  Fossil Oil  Geothermal  \\\n",
      "2022-06-01 00:15:00+00:00            4328.0         8.0        25.0   \n",
      "2022-06-01 00:30:00+00:00            4283.0         8.0        25.0   \n",
      "2022-06-01 00:45:00+00:00            4252.0         8.0        25.0   \n",
      "2022-06-01 01:00:00+00:00            4192.0         8.0        25.0   \n",
      "2022-06-01 01:15:00+00:00            4217.0         8.0        25.0   \n",
      "2022-06-01 01:30:00+00:00            4228.0         8.0        25.0   \n",
      "2022-06-01 01:45:00+00:00            4214.0         8.0        25.0   \n",
      "2022-06-01 02:00:00+00:00            4233.0         8.0        25.0   \n",
      "2022-06-01 02:15:00+00:00            4253.0         8.0        25.0   \n",
      "\n",
      "GenerationType             Hydro Pumped Storage  \\\n",
      "2022-06-01 00:15:00+00:00                  74.0   \n",
      "2022-06-01 00:30:00+00:00                  75.0   \n",
      "2022-06-01 00:45:00+00:00                  64.0   \n",
      "2022-06-01 01:00:00+00:00                  85.0   \n",
      "2022-06-01 01:15:00+00:00                  85.0   \n",
      "2022-06-01 01:30:00+00:00                  92.0   \n",
      "2022-06-01 01:45:00+00:00                  60.0   \n",
      "2022-06-01 02:00:00+00:00                  70.0   \n",
      "2022-06-01 02:15:00+00:00                  92.0   \n",
      "\n",
      "GenerationType             Hydro Run - of - river and poundage  \\\n",
      "2022-06-01 00:15:00+00:00                               1658.0   \n",
      "2022-06-01 00:30:00+00:00                               1658.0   \n",
      "2022-06-01 00:45:00+00:00                               1654.0   \n",
      "2022-06-01 01:00:00+00:00                               1657.0   \n",
      "2022-06-01 01:15:00+00:00                               1678.0   \n",
      "2022-06-01 01:30:00+00:00                               1676.0   \n",
      "2022-06-01 01:45:00+00:00                               1668.0   \n",
      "2022-06-01 02:00:00+00:00                               1651.0   \n",
      "2022-06-01 02:15:00+00:00                               1649.0   \n",
      "\n",
      "GenerationType             Hydro Water Reservoir  Nuclear  Other  \\\n",
      "2022-06-01 00:15:00+00:00                   64.0   3818.0  227.0   \n",
      "2022-06-01 00:30:00+00:00                   59.0   3819.0  227.0   \n",
      "2022-06-01 00:45:00+00:00                   55.0   3818.0  227.0   \n",
      "2022-06-01 01:00:00+00:00                  177.0   3818.0  227.0   \n",
      "2022-06-01 01:15:00+00:00                  173.0   3820.0  227.0   \n",
      "2022-06-01 01:30:00+00:00                  132.0   3819.0  227.0   \n",
      "2022-06-01 01:45:00+00:00                   74.0   3819.0  227.0   \n",
      "2022-06-01 02:00:00+00:00                   87.0   3819.0  227.0   \n",
      "2022-06-01 02:15:00+00:00                  133.0   3820.0  227.0   \n",
      "\n",
      "GenerationType             Other renewable  Solar  Waste  Wind Offshore  \\\n",
      "2022-06-01 00:15:00+00:00             89.0    0.0  928.0          118.0   \n",
      "2022-06-01 00:30:00+00:00             89.0    0.0  925.0           96.0   \n",
      "2022-06-01 00:45:00+00:00             89.0    0.0  923.0           76.0   \n",
      "2022-06-01 01:00:00+00:00             89.0    0.0  925.0           65.0   \n",
      "2022-06-01 01:15:00+00:00             89.0    0.0  923.0           62.0   \n",
      "2022-06-01 01:30:00+00:00             89.0    0.0  926.0           52.0   \n",
      "2022-06-01 01:45:00+00:00             89.0    0.0  926.0           38.0   \n",
      "2022-06-01 02:00:00+00:00             89.0    0.0  923.0           30.0   \n",
      "2022-06-01 02:15:00+00:00             89.0    0.0  920.0           24.0   \n",
      "\n",
      "GenerationType             Wind Onshore  \n",
      "2022-06-01 00:15:00+00:00        2662.0  \n",
      "2022-06-01 00:30:00+00:00        2926.0  \n",
      "2022-06-01 00:45:00+00:00        3137.0  \n",
      "2022-06-01 01:00:00+00:00        3279.0  \n",
      "2022-06-01 01:15:00+00:00        3442.0  \n",
      "2022-06-01 01:30:00+00:00        3566.0  \n",
      "2022-06-01 01:45:00+00:00        3654.0  \n",
      "2022-06-01 02:00:00+00:00        3734.0  \n",
      "2022-06-01 02:15:00+00:00        4107.0  \n",
      "Index(['Biomass', 'Fossil Brown coal / Lignite', 'Fossil Gas',\n",
      "       'Fossil Hard coal', 'Fossil Oil', 'Geothermal', 'Hydro Pumped Storage',\n",
      "       'Hydro Run - of - river and poundage', 'Hydro Water Reservoir',\n",
      "       'Nuclear', 'Other', 'Other renewable', 'Solar', 'Waste',\n",
      "       'Wind Offshore', 'Wind Onshore'],\n",
      "      dtype='object', name='GenerationType') (9, 16)\n"
     ]
    }
   ],
   "source": [
    "print(production_by_type)\n",
    "print(production_by_type.columns, production_by_type.shape)"
   ]
  },
  {
   "cell_type": "code",
   "execution_count": null,
   "id": "4a0203e9",
   "metadata": {},
   "outputs": [],
   "source": []
  }
 ],
 "metadata": {
  "kernelspec": {
   "display_name": "Python 3 (ipykernel)",
   "language": "python",
   "name": "python3"
  },
  "language_info": {
   "codemirror_mode": {
    "name": "ipython",
    "version": 3
   },
   "file_extension": ".py",
   "mimetype": "text/x-python",
   "name": "python",
   "nbconvert_exporter": "python",
   "pygments_lexer": "ipython3",
   "version": "3.10.6"
  }
 },
 "nbformat": 4,
 "nbformat_minor": 5
}
