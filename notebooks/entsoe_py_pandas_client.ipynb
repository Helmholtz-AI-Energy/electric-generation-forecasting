{
 "cells": [
  {
   "cell_type": "markdown",
   "id": "4e22bc40",
   "metadata": {},
   "source": [
    "\n",
    "\n",
    "- How to deal with different columns in generation data for old (`DE_AT_LU` until 2018/09/30) and new bidding zone (`DE_LU` since 2018/10/01)? Old data contains all columns from new data but also additional columns, mostly about `'Actual Consumption'`, and one extra category `'Fossil Coal-derived gas Actual Aggregated'`.\n",
    "- Which time span to include in general for training data?"
   ]
  },
  {
   "cell_type": "markdown",
   "id": "65fdcdbd",
   "metadata": {},
   "source": [
    "## Data-loading playground with `entsoe-py`"
   ]
  },
  {
   "cell_type": "code",
   "execution_count": null,
   "id": "8a84800e",
   "metadata": {},
   "outputs": [],
   "source": [
    "import pandas as pd\n",
    "#import plotly.express as px\n",
    "#import matplotlib.pyplot as plt"
   ]
  },
  {
   "cell_type": "code",
   "execution_count": null,
   "id": "e7fb5f14",
   "metadata": {},
   "outputs": [],
   "source": [
    "path_test = \"/home/marie/Projects/merit_order/MeritOrderPrediction/data/csv_raw/Actual_Generation_per_Production_Type_201401010000-201501010000.csv\"\n",
    "df = pd.read_csv(path_test)"
   ]
  },
  {
   "cell_type": "code",
   "execution_count": null,
   "id": "0a91ccd1",
   "metadata": {},
   "outputs": [],
   "source": [
    "root = \"/home/marie/Projects/merit_order/MeritOrderPrediction/data/csv_raw/\"\n",
    "paths = [\n",
    "    root + \"Actual_Generation_per_Production_Type_201401010000-201501010000.csv\",\n",
    "    root + \"Actual_Generation_per_Production_Type_201501010000-201601010000.csv\",\n",
    "    root + \"Actual_Generation_per_Production_Type_201601010000-201701010000.csv\",\n",
    "    root + \"Actual_Generation_per_Production_Type_201701010000-201801010000.csv\",\n",
    "    root + \"Actual_Generation_per_Production_Type_201801010000-201901010000.csv\",\n",
    "    root + \"Actual_Generation_per_Production_Type_201901010000-202001010000.csv\",\n",
    "    root + \"Actual_Generation_per_Production_Type_202001010000-202101010000.csv\",\n",
    "    root + \"Actual_Generation_per_Production_Type_202101010000-202201010000.csv\",\n",
    "    root + \"Actual_Generation_per_Production_Type_202201010000-202301010000.csv\",\n",
    "    root + \"Total_Load_Day_Ahead_Actual_201401010000-201501010000.csv\",\n",
    "    root + \"Total_Load_Day_Ahead_Actual_201501010000-201601010000.csv\",\n",
    "    root + \"Total_Load_Day_Ahead_Actual_201601010000-201701010000.csv\",\n",
    "    root + \"Total_Load_Day_Ahead_Actual_201701010000-201801010000.csv\",\n",
    "    root + \"Total_Load_Day_Ahead_Actual_201801010000-201901010000.csv\",\n",
    "    root + \"Total_Load_Day_Ahead_Actual_201901010000-202001010000.csv\",\n",
    "    root + \"Total_Load_Day_Ahead_Actual_202001010000-202101010000.csv\",\n",
    "    root + \"Total_Load_Day_Ahead_Actual_202101010000-202201010000.csv\",\n",
    "    root + \"Total_Load_Day_Ahead_Actual_202201010000-202301010000.csv\"\n",
    "]"
   ]
  },
  {
   "cell_type": "code",
   "execution_count": null,
   "id": "12004015",
   "metadata": {},
   "outputs": [],
   "source": [
    "def get_load_intervals(start_date, end_date, time_zone=\"Europe/Berlin\"):\n",
    "    \"\"\"\n",
    "    Get time points that work for loading data from ENTSO-E transparency platform.\n",
    "    \n",
    "    The time delta for loading data from the platform is limited to one year.\n",
    "    \n",
    "    Params\n",
    "    ------\n",
    "    start_date : str\n",
    "                 start date as \"yyyymmdd\"\n",
    "    end_date : str\n",
    "               end date as \"yyyymmdd\"\n",
    "    time_zone : str\n",
    "                time zone as string, e.g. \"Europe/Berlin\"\n",
    "    \"\"\"\n",
    "    start = pd.Timestamp(start_date, tz=time_zone)\n",
    "    end = pd.Timestamp(end_date, tz=time_zone)\n",
    "\n",
    "    start_series = pd.Series(pd.Timestamp(start_date))\n",
    "    end_series = pd.Series(pd.Timestamp(end_date))\n",
    "    dates = pd.date_range(start=start_date, end=end_date, freq=\"YS\", inclusive=\"both\").to_series()\n",
    "\n",
    "    if not start.is_year_start:\n",
    "        dates = pd.concat([start_series, dates], ignore_index=True)\n",
    "\n",
    "    if not end.is_year_start:\n",
    "        dates = pd.concat([dates, end_series], ignore_index=True)\n",
    "        \n",
    "    return dates"
   ]
  },
  {
   "cell_type": "code",
   "execution_count": null,
   "id": "822010db",
   "metadata": {},
   "outputs": [],
   "source": [
    "def fetch_data(start_date, \n",
    "               end_date, \n",
    "               api_key, \n",
    "               country_code=\"10Y1001A1001A83F\", \n",
    "               time_zone=\"Europe/Berlin\"):\n",
    "    \"\"\"\n",
    "    Fetch data from ENTSO-E transparency platform as requested.\n",
    "    \n",
    "    Parameters\n",
    "    ----------\n",
    "    start_date : str\n",
    "    end_date : str\n",
    "    api_key : str\n",
    "    country_code : str\n",
    "    time_zone : str\n",
    "    \"\"\"\n",
    "    dates = get_load_intervals(start_date, end_date, time_zone)\n",
    "    print(f\"Consider the following dates:\\n{dates}\")\n",
    "    df_list = []\n",
    "    \n",
    "    for i, _ in enumerate(dates):\n",
    "\n",
    "        if i == dates.shape[0] - 1:\n",
    "            return pd.concat(df_list)\n",
    "            \n",
    "        try:\n",
    "            df_temp = load_data(start_date=dates[i], \n",
    "                                end_date=dates[i+1],\n",
    "                                api_key=api_key,\n",
    "                                time_zone=time_zone,\n",
    "                                country_code=country_code)\n",
    "            print(df_temp.shape)\n",
    "            df_list.append(df_temp)\n",
    "            \n",
    "        except Exception as e:\n",
    "            print(e)\n",
    "            continue"
   ]
  },
  {
   "cell_type": "code",
   "execution_count": null,
   "id": "3415492a",
   "metadata": {},
   "outputs": [],
   "source": [
    "start_date = \"20150304\"\n",
    "end_date = \"20170101\"\n",
    "df_test = fetch_data(start_date, end_date, api_key)"
   ]
  },
  {
   "cell_type": "code",
   "execution_count": null,
   "id": "86820446",
   "metadata": {},
   "outputs": [],
   "source": [
    "print(df_test[0].shape, df_test[1].shape)\n",
    "print(df_test[0].iloc[0], df_test[1].iloc[-1])"
   ]
  },
  {
   "cell_type": "code",
   "execution_count": null,
   "id": "94a8eb71",
   "metadata": {},
   "outputs": [],
   "source": [
    "df_14 = load_data(start_date=\"20140101\", \n",
    "                  end_date=\"20150101\", \n",
    "                  time_zone=time_zone,\n",
    "                  api_key=api_key,\n",
    "                  country_code=country_code)"
   ]
  },
  {
   "cell_type": "code",
   "execution_count": null,
   "id": "c03e6752",
   "metadata": {},
   "outputs": [],
   "source": [
    "df_15 = load_data(start_date=\"20150101\", \n",
    "                  end_date=\"20160101\", \n",
    "                  time_zone=time_zone,\n",
    "                  api_key=api_key,\n",
    "                  country_code=country_code)"
   ]
  },
  {
   "cell_type": "code",
   "execution_count": null,
   "id": "a1fe9a12",
   "metadata": {},
   "outputs": [],
   "source": [
    "df_16 = load_data(start_date=\"20160101\", \n",
    "                  end_date=\"20170101\", \n",
    "                  time_zone=time_zone,\n",
    "                  api_key=api_key,\n",
    "                  country_code=country_code)"
   ]
  },
  {
   "cell_type": "code",
   "execution_count": null,
   "id": "c4d2a906",
   "metadata": {},
   "outputs": [],
   "source": [
    "df_17 = load_data(start_date=\"20170101\", \n",
    "                  end_date=\"20180101\", \n",
    "                  time_zone=time_zone,\n",
    "                  api_key=api_key,\n",
    "                  country_code=country_code)"
   ]
  },
  {
   "cell_type": "code",
   "execution_count": null,
   "id": "f17de6a4",
   "metadata": {},
   "outputs": [],
   "source": [
    "df_18 = load_data(start_date=\"20180101\", \n",
    "                  end_date=\"20190101\", \n",
    "                  time_zone=time_zone,\n",
    "                  api_key=api_key,\n",
    "                  country_code=country_code)"
   ]
  },
  {
   "cell_type": "code",
   "execution_count": null,
   "id": "9e72d59e",
   "metadata": {},
   "outputs": [],
   "source": [
    "df_19 = load_data(start_date=\"20190101\", \n",
    "                  end_date=\"20200101\", \n",
    "                  time_zone=time_zone,\n",
    "                  api_key=api_key,\n",
    "                  country_code=country_code)"
   ]
  },
  {
   "cell_type": "code",
   "execution_count": null,
   "id": "86444894",
   "metadata": {},
   "outputs": [],
   "source": [
    "df_20 = load_data(start_date=\"20200101\", \n",
    "                  end_date=\"20210101\", \n",
    "                  time_zone=time_zone,\n",
    "                  api_key=api_key,\n",
    "                  country_code=country_code)"
   ]
  },
  {
   "cell_type": "code",
   "execution_count": null,
   "id": "1f411d44",
   "metadata": {},
   "outputs": [],
   "source": [
    "df_21 = load_data(start_date=\"20210101\", \n",
    "                  end_date=\"20220101\", \n",
    "                  time_zone=time_zone,\n",
    "                  api_key=api_key,\n",
    "                  country_code=country_code)"
   ]
  },
  {
   "cell_type": "code",
   "execution_count": null,
   "id": "ac419bb3",
   "metadata": {},
   "outputs": [],
   "source": [
    "df_22 = load_data(start_date=\"20220101\", \n",
    "                  end_date=\"20230101\", \n",
    "                  time_zone=time_zone,\n",
    "                  api_key=api_key,\n",
    "                  country_code=country_code)"
   ]
  },
  {
   "cell_type": "code",
   "execution_count": null,
   "id": "928a359e",
   "metadata": {},
   "outputs": [],
   "source": [
    "df = pd.concat([df_15, df_16, df_17, df_18, df_19, df_20, df_21, df_22], axis=0)#, ignore_index=True)"
   ]
  },
  {
   "cell_type": "code",
   "execution_count": null,
   "id": "ed45101b",
   "metadata": {},
   "outputs": [],
   "source": [
    "print(f\"2015 shape: {df_15.shape}\")\n",
    "print(f\"2016 shape: {df_16.shape}\")\n",
    "print(f\"2017 shape: {df_17.shape}\")\n",
    "print(f\"2018 shape: {df_18.shape}\")\n",
    "print(f\"2019 shape: {df_19.shape}\")\n",
    "print(f\"2020 shape: {df_20.shape}\")\n",
    "print(f\"2021 shape: {df_21.shape}\")\n",
    "print(f\"2022 shape: {df_22.shape}\")\n",
    "print(f\"Concat shape: {df.shape}\")\n",
    "#print(df_22.columns, df_22.shape)"
   ]
  },
  {
   "cell_type": "code",
   "execution_count": null,
   "id": "11620f85",
   "metadata": {},
   "outputs": [],
   "source": [
    "print(df_20[\"Actual Load\"].isna().sum()) #.iloc[::4].\n",
    "print(df_20[\"Actual Load\"].shape)"
   ]
  },
  {
   "cell_type": "code",
   "execution_count": null,
   "id": "98a15b7c",
   "metadata": {},
   "outputs": [],
   "source": [
    "#print(df_15.iloc[2])\n",
    "col_15 = df_15.columns\n",
    "col_20 = df_20.columns\n",
    "col_diff = col_15.difference(col_20)\n",
    "#print(col_diff)\n",
    "#print(df_15.iloc[70079] == df.iloc[70079])\n",
    "print(df_15.iloc[70079])\n",
    "print(df.iloc[70079])\n",
    "#print(df_22.iloc[67835])\n",
    "#print(df.iloc[558779])\n",
    "#print(df.index)"
   ]
  },
  {
   "cell_type": "code",
   "execution_count": null,
   "id": "b0ff7a2b",
   "metadata": {},
   "outputs": [],
   "source": [
    "api_key = \"6e68642c-8403-4caa-af31-bda40b8c67f6\"\n",
    "country_code = \"10Y1001A1001A83F\"# Germany \n",
    "time_zone = \"Europe/Berlin\""
   ]
  },
  {
   "cell_type": "code",
   "execution_count": null,
   "id": "83bd94db",
   "metadata": {},
   "outputs": [],
   "source": [
    "print(DF.iloc[0].name, DF.iloc[70270].name, DF.iloc[70271].name, DF.iloc[70272].name, DF.iloc[140351].name, )"
   ]
  },
  {
   "cell_type": "code",
   "execution_count": null,
   "id": "eaafbcf9",
   "metadata": {},
   "outputs": [],
   "source": [
    "def load_data(start_date, \n",
    "              end_date, \n",
    "              api_key, \n",
    "              country_code=\"10Y1001A1001A83F\", \n",
    "              time_zone=\"Europe/Berlin\"):\n",
    "    \"\"\"\n",
    "    Load data for requested time interval.\n",
    "    \n",
    "    Data contains actual aggregated generation per production type and actual total load for Germany.\n",
    "    \n",
    "    Params\n",
    "    ------\n",
    "    start_date : str\n",
    "                 start date as \"yyyymmdd\"\n",
    "    end_date : str\n",
    "               end date as \"yyyymmdd\"\n",
    "    api_key : str\n",
    "              RESTful API web key\n",
    "    country_code : str\n",
    "                   code for country, bidding zone, etc.\n",
    "    time_zone : str\n",
    "                time zone as string, e.g. \"Europe/Berlin\"\n",
    "    \"\"\"\n",
    "    from entsoe import EntsoePandasClient\n",
    "    # Initialize client and settings.\n",
    "    client = EntsoePandasClient(api_key=api_key)\n",
    "    start = pd.Timestamp(start_date, tz=time_zone)\n",
    "    end = pd.Timestamp(end_date, tz=time_zone)\n",
    "    # Query data and save to dataframe.\n",
    "    df_load = client.query_load(country_code, start=start, end=end)\n",
    "    df_gen = client.query_generation(country_code, start=start, end=end, psr_type=None)\n",
    "    df_gen.columns = [\" \".join(a) for a in df_gen.columns.to_flat_index()]\n",
    "    df_final = pd.concat([df_load, df_gen], axis=1)\n",
    "    \n",
    "    return df_final"
   ]
  },
  {
   "cell_type": "code",
   "execution_count": null,
   "id": "02c1e029",
   "metadata": {},
   "outputs": [],
   "source": [
    "import numpy as np\n",
    "dates = None\n",
    "start_date = \"20140301\"\n",
    "end_date = \"20210102\"\n",
    "time_zone = \"Europe/Berlin\"\n",
    "\n",
    "start = pd.Timestamp(start_date, tz=time_zone)\n",
    "end = pd.Timestamp(end_date, tz=time_zone)\n",
    "\n",
    "start_series = pd.Series(pd.Timestamp(start_date, tz=time_zone))\n",
    "end_series = pd.Series(pd.Timestamp(end_date, tz=time_zone))\n",
    "dates = pd.date_range(start=start_date, end=end_date, freq=\"YS\", inclusive=\"both\", tz=time_zone).to_series()\n",
    "\n",
    "if not start.is_year_start:\n",
    "    dates = pd.concat([start_series, dates], ignore_index=True)\n",
    "\n",
    "if not end.is_year_start:\n",
    "    dates = pd.concat([dates, end_series], ignore_index=True)\n",
    "    \n",
    "for i, d in enumerate(dates):\n",
    "    print(pd.Timestamp(d))"
   ]
  },
  {
   "cell_type": "code",
   "execution_count": null,
   "id": "3ccae4ff",
   "metadata": {},
   "outputs": [],
   "source": [
    "# SETTINGS\n",
    "api_key = \"6e68642c-8403-4caa-af31-bda40b8c67f6\"\n",
    "#country_code_from = 'FR'  # France\n",
    "#country_code_to = 'DE_LU' # Germany-Luxembourg\n",
    "time_zone = \"Europe/Berlin\""
   ]
  },
  {
   "cell_type": "code",
   "execution_count": null,
   "id": "bd4abff4",
   "metadata": {},
   "outputs": [],
   "source": [
    "# Check data for new vs. old bidding zone.\n",
    "start_date = \"20201231\"\n",
    "end_date = \"20210101\"\n",
    "country_code = \"10Y1001A1001A83F\" # Germany \n",
    "BZ_code = \"DE_LU\" # (new bidding zone, valid since 2018/10/01)\n",
    "#country_code_old = \"DE_AT_LU\" # Germany (old bidding zone, valid until 2018/09/30)\n",
    "#start_date_old = \"20150101\"\n",
    "#end_date_old = \"20150201\""
   ]
  },
  {
   "cell_type": "code",
   "execution_count": null,
   "id": "02518aa6",
   "metadata": {},
   "outputs": [],
   "source": [
    "df_cc = load_data(start_date, end_date, time_zone, api_key, country_code)\n",
    "df_bz = load_data(start_date, end_date, time_zone, api_key, BZ_code)"
   ]
  },
  {
   "cell_type": "code",
   "execution_count": null,
   "id": "3b9b2bdd",
   "metadata": {},
   "outputs": [],
   "source": [
    "print(df_cc.iloc[0], df_bz.iloc[0])"
   ]
  },
  {
   "cell_type": "code",
   "execution_count": null,
   "id": "b2e79767",
   "metadata": {},
   "outputs": [],
   "source": [
    "df_old = load_data(start_date_old, end_date_old, time_zone, api_key, country_code)"
   ]
  },
  {
   "cell_type": "code",
   "execution_count": null,
   "id": "5f464605",
   "metadata": {},
   "outputs": [],
   "source": [
    "print(f\"New: Columns {df_new.columns} and shape {df_new.shape}.\")\n",
    "print(f\"Old: Columns {df_old.columns} and shape {df_old.shape}.\")\n",
    "columns_intersect = df_new.columns.intersection(df_old.columns)\n",
    "print(columns_intersect, columns_intersect.shape)\n",
    "print(df_new.columns == columns_intersect)\n",
    "columns_diff = df_old.columns.difference(df_new.columns)\n",
    "print(columns_diff, columns_diff.shape)"
   ]
  },
  {
   "cell_type": "code",
   "execution_count": null,
   "id": "78ace409",
   "metadata": {},
   "outputs": [],
   "source": [
    "# Check data-loading for time spans larger that 1y\n",
    "start_date = \"20190101\"\n",
    "end_date_1y = \"20200101\"\n",
    "end_date_2y = \"20210101\"\n",
    "country_code = \"DE_LU\"  # Germany (new bidding zone, valid since 2018/10/01)\n",
    "df_1y = load_data(start_date, end_date_1y, time_zone, api_key, country_code)\n",
    "df_2y = load_data(start_date, end_date_2y, time_zone, api_key, country_code)"
   ]
  },
  {
   "cell_type": "code",
   "execution_count": null,
   "id": "3d2ed957",
   "metadata": {},
   "outputs": [],
   "source": [
    "#print(df_1y.shape, df_1y.columns)\n",
    "#print(df_2y.shape, df_2y.columns)\n",
    "columns_intersect = df_new.columns.intersection(df_1y.columns)\n",
    "print(columns_intersect, columns_intersect.shape)\n",
    "#print(df_new.columns == columns_intersect)\n",
    "columns_diff = df_1y.columns.difference(df_new.columns)\n",
    "print(columns_diff, columns_diff.shape)"
   ]
  },
  {
   "cell_type": "markdown",
   "id": "b9dabc64",
   "metadata": {},
   "source": [
    "### Complete parameter list\n",
    "https://transparency.entsoe.eu/content/static_content/Static%20content/web%20api/Guide.html#_complete_parameter_list\n",
    "\n",
    "### Queries returning Pandas Series\n",
    "\n",
    "`client.query_day_ahead_prices(country_code, start=start,end=end)` <br>\n",
    "`client.query_net_position(country_code, start=start, end=end, dayahead=True)` <br>\n",
    "`client.query_crossborder_flows(country_code_from, country_code_to, start, end)` <br>\n",
    "`client.query_scheduled_exchanges(country_code_from, country_code_to, start, end, dayahead=False)` <br>\n",
    "`client.query_net_transfer_capacity_dayahead(country_code_from, country_code_to, start, end)` <br>\n",
    "`client.query_net_transfer_capacity_weekahead(country_code_from, country_code_to, start, end)` <br>\n",
    "`client.query_net_transfer_capacity_monthahead(country_code_from, country_code_to, start, end)` <br>\n",
    "`client.query_net_transfer_capacity_yearahead(country_code_from, country_code_to, start, end)` <br>\n",
    "`client.query_intraday_offered_capacity(country_code_from, country_code_to, start, end,implicit=True)` <br>\n",
    "`client.query_offered_capacity(country_code_from, country_code_to, start, end, contract_marketagreement_type, implicit=True)` <br>\n",
    "`client.query_aggregate_water_reservoirs_and_hydro_storage(country_code, start, end)`\n",
    "\n",
    "### Queries returning Pandas DataFrames\n",
    "\n",
    "`client.query_load(country_code, start=start,end=end)` <br>\n",
    "`client.query_load_forecast(country_code, start=start,end=end)` <br>\n",
    "`client.query_load_and_forecast(country_code, start=start, end=end)` <br>\n",
    "`client.query_generation_forecast(country_code, start=start,end=end)` <br>\n",
    "`client.query_wind_and_solar_forecast(country_code, start=start,end=end, psr_type=None)` <br>\n",
    "`client.query_generation(country_code, start=start,end=end, psr_type=None)` <br>\n",
    "`client.query_generation_per_plant(country_code, start=start,end=end, psr_type=None)` <br>\n",
    "`client.query_installed_generation_capacity(country_code, start=start,end=end, psr_type=None)` <br>\n",
    "`client.query_installed_generation_capacity_per_unit(country_code, start=start,end=end, psr_type=None)` <br>\n",
    "`client.query_imbalance_prices(country_code, start=start,end=end, psr_type=None)` <br>\n",
    "`client.query_contracted_reserve_prices(country_code, start, end, type_marketagreement_type, psr_type=None)` <br>\n",
    "`client.query_contracted_reserve_amount(country_code, start, end, type_marketagreement_type, psr_type=None)` <br>\n",
    "`client.query_unavailability_of_generation_units(country_code, start=start,end=end, docstatus=None, periodstartupdate=None, periodendupdate=None)` <br>\n",
    "`client.query_unavailability_of_production_units(country_code, start, end, docstatus=None, periodstartupdate=None, periodendupdate=None)` <br>\n",
    "`client.query_unavailability_transmission(country_code_from, country_code_to, start, end, docstatus=None, periodstartupdate=None, periodendupdate=None)` <br>\n",
    "`client.query_withdrawn_unavailability_of_generation_units(country_code, start, end)` <br>\n",
    "`client.query_import(country_code, start, end)` <br>\n",
    "`client.query_generation_import(country_code, start, end)` <br>\n",
    "`client.query_procured_balancing_capacity(country_code, start, end, process_type, type_marketagreement_type=None)`"
   ]
  },
  {
   "cell_type": "markdown",
   "id": "f5c395d5",
   "metadata": {},
   "source": [
    "## Load data from client"
   ]
  },
  {
   "cell_type": "code",
   "execution_count": null,
   "id": "838b59be",
   "metadata": {},
   "outputs": [],
   "source": [
    "df = pd.DataFrame()\n",
    "df[\"load forecast\"] = client.query_load_forecast(country_code, start=start,end=end)\n",
    "df[\"load\"] = client.query_load(country_code, start=start,end=end)\n",
    "df[\"load forecast error\"] = df[\"load forecast\"] - df[\"load\"]\n",
    "df[\"generation forecast\"] = client.query_generation_forecast(country_code, start=start,end=end)"
   ]
  },
  {
   "cell_type": "code",
   "execution_count": null,
   "id": "f1bc6df9",
   "metadata": {},
   "outputs": [],
   "source": [
    "df_gen = client.query_generation(country_code, start=start,end=end, psr_type=None)\n",
    "df_gen.head()"
   ]
  },
  {
   "cell_type": "code",
   "execution_count": null,
   "id": "64521a20",
   "metadata": {},
   "outputs": [],
   "source": [
    "df_gen.xs(key=\"Actual Aggregated\", level=1, axis=1)"
   ]
  },
  {
   "cell_type": "code",
   "execution_count": null,
   "id": "0f0978cd",
   "metadata": {
    "scrolled": false
   },
   "outputs": [],
   "source": [
    "fig, ax = plt.subplots(figsize=(14,7))\n",
    "ax.plot(df_gen.xs(key=\"Actual Aggregated\", level=1, axis=1))\n",
    "ax.legend()"
   ]
  },
  {
   "cell_type": "code",
   "execution_count": null,
   "id": "38eebb4d",
   "metadata": {},
   "outputs": [],
   "source": [
    "df[\"generation\"] = df_gen.sum(axis=1)"
   ]
  },
  {
   "cell_type": "code",
   "execution_count": null,
   "id": "525f040d",
   "metadata": {},
   "outputs": [],
   "source": [
    "df[\"generation forecast error\"] = df[\"generation forecast\"] - df[\"generation\"]"
   ]
  },
  {
   "cell_type": "code",
   "execution_count": null,
   "id": "b14b9c6c",
   "metadata": {
    "scrolled": true
   },
   "outputs": [],
   "source": [
    "px.line(df)"
   ]
  },
  {
   "cell_type": "markdown",
   "id": "af87d813",
   "metadata": {},
   "source": [
    "## Save to csv file"
   ]
  },
  {
   "cell_type": "code",
   "execution_count": null,
   "id": "b82506c5",
   "metadata": {},
   "outputs": [],
   "source": [
    "df.to_csv('entsoe.csv')"
   ]
  }
 ],
 "metadata": {
  "kernelspec": {
   "display_name": "Python 3 (ipykernel)",
   "language": "python",
   "name": "python3"
  },
  "language_info": {
   "codemirror_mode": {
    "name": "ipython",
    "version": 3
   },
   "file_extension": ".py",
   "mimetype": "text/x-python",
   "name": "python",
   "nbconvert_exporter": "python",
   "pygments_lexer": "ipython3",
   "version": "3.10.6"
  }
 },
 "nbformat": 4,
 "nbformat_minor": 5
}
