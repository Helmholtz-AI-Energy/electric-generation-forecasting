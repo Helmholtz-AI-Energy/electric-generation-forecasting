{
 "cells": [
  {
   "cell_type": "markdown",
   "id": "db3b4603",
   "metadata": {},
   "source": [
    "\n",
    "\n",
    "- How to deal with different columns in generation data for old (`DE_AT_LU` until 2018/09/30) and new bidding zone (`DE_LU` since 2018/10/01)? Old data contains all columns from new data but also additional columns, mostly about `'Actual Consumption'`, and one extra category `'Fossil Coal-derived gas Actual Aggregated'`.\n",
    "- Which time span to include in general for training data?"
   ]
  },
  {
   "cell_type": "markdown",
   "id": "472d3611",
   "metadata": {},
   "source": [
    "## Data-loading playground with `entsoe-py`"
   ]
  },
  {
   "cell_type": "code",
   "execution_count": 1,
   "id": "8a84800e",
   "metadata": {},
   "outputs": [],
   "source": [
    "import pandas as pd\n",
    "#import plotly.express as px\n",
    "#import matplotlib.pyplot as plt"
   ]
  },
  {
   "cell_type": "code",
   "execution_count": 44,
   "id": "eaafbcf9",
   "metadata": {},
   "outputs": [],
   "source": [
    "def load_data(start_date, end_date, time_zone, api_key, country_code):\n",
    "    \"\"\"\n",
    "    Load data for requested time interval.\n",
    "    \n",
    "    Data contains actual aggregated generation per production type and actual total load for Germany.\n",
    "    \n",
    "    Params\n",
    "    ------\n",
    "    start_date : str\n",
    "                 start date as \"yyyymmdd\"\n",
    "    end_date : str\n",
    "               end date as \"yyyymmdd\"\n",
    "    time_zone : str\n",
    "                time zone as string, e.g. \"Europe/Berlin\"\n",
    "    api_key : str\n",
    "              RESTful API web key\n",
    "    \"\"\"\n",
    "    from entsoe import EntsoePandasClient\n",
    "    # Initialize client and settings.\n",
    "    client = EntsoePandasClient(api_key=api_key)\n",
    "    start = pd.Timestamp(start_date, tz=time_zone)\n",
    "    end = pd.Timestamp(end_date, tz=time_zone)\n",
    "    # Query data and save to dataframe.\n",
    "    df_load = client.query_load(country_code, start=start, end=end)\n",
    "    df_gen = client.query_generation(country_code, start=start, end=end, psr_type=None)\n",
    "    df_gen.columns = [\" \".join(a) for a in df_gen.columns.to_flat_index()]\n",
    "\n",
    "    df_final = pd.concat([df_load, df_gen])\n",
    "    \n",
    "    return df_final"
   ]
  },
  {
   "cell_type": "code",
   "execution_count": 45,
   "id": "38735275",
   "metadata": {},
   "outputs": [],
   "source": [
    "# SETTINGS\n",
    "api_key = \"6e68642c-8403-4caa-af31-bda40b8c67f6\"\n",
    "#country_code_from = 'FR'  # France\n",
    "#country_code_to = 'DE_LU' # Germany-Luxembourg\n",
    "time_zone = \"Europe/Berlin\""
   ]
  },
  {
   "cell_type": "code",
   "execution_count": 46,
   "id": "6d1638f4",
   "metadata": {},
   "outputs": [],
   "source": [
    "# Check data for new vs. old bidding zone.\n",
    "start_date = \"20201231\"\n",
    "end_date = \"20210101\"\n",
    "country_code = \"10Y1001A1001A83F\"# Germany (new bidding zone, valid since 2018/10/01)\n",
    "BZ_code = \"DE_LU\"\n",
    "#country_code_old = \"DE_AT_LU\" # Germany (old bidding zone, valid until 2018/09/30)\n",
    "#start_date_old = \"20150101\"\n",
    "#end_date_old = \"20150201\""
   ]
  },
  {
   "cell_type": "code",
   "execution_count": 47,
   "id": "c0788d6f",
   "metadata": {},
   "outputs": [],
   "source": [
    "df_cc = load_data(start_date, end_date, time_zone, api_key, country_code)\n",
    "df_bz = load_data(start_date, end_date, time_zone, api_key, BZ_code)"
   ]
  },
  {
   "cell_type": "code",
   "execution_count": 48,
   "id": "a34e258d",
   "metadata": {},
   "outputs": [
    {
     "name": "stdout",
     "output_type": "stream",
     "text": [
      "Actual Load                                          45993.0\n",
      "Biomass Actual Aggregated                                NaN\n",
      "Fossil Brown coal/Lignite Actual Aggregated              NaN\n",
      "Fossil Gas Actual Aggregated                             NaN\n",
      "Fossil Hard coal Actual Aggregated                       NaN\n",
      "Fossil Oil Actual Aggregated                             NaN\n",
      "Fossil Oil Actual Consumption                            NaN\n",
      "Geothermal Actual Aggregated                             NaN\n",
      "Hydro Pumped Storage Actual Aggregated                   NaN\n",
      "Hydro Pumped Storage Actual Consumption                  NaN\n",
      "Hydro Run-of-river and poundage Actual Aggregated        NaN\n",
      "Hydro Water Reservoir Actual Aggregated                  NaN\n",
      "Nuclear Actual Aggregated                                NaN\n",
      "Other Actual Aggregated                                  NaN\n",
      "Other renewable Actual Aggregated                        NaN\n",
      "Solar Actual Aggregated                                  NaN\n",
      "Waste Actual Aggregated                                  NaN\n",
      "Wind Offshore Actual Aggregated                          NaN\n",
      "Wind Onshore Actual Aggregated                           NaN\n",
      "Name: 2020-12-31 00:00:00+01:00, dtype: float64 Actual Load                                          46347.0\n",
      "Biomass Actual Aggregated                                NaN\n",
      "Fossil Brown coal/Lignite Actual Aggregated              NaN\n",
      "Fossil Gas Actual Aggregated                             NaN\n",
      "Fossil Hard coal Actual Aggregated                       NaN\n",
      "Fossil Oil Actual Aggregated                             NaN\n",
      "Fossil Oil Actual Consumption                            NaN\n",
      "Geothermal Actual Aggregated                             NaN\n",
      "Hydro Pumped Storage Actual Aggregated                   NaN\n",
      "Hydro Pumped Storage Actual Consumption                  NaN\n",
      "Hydro Run-of-river and poundage Actual Aggregated        NaN\n",
      "Hydro Water Reservoir Actual Aggregated                  NaN\n",
      "Nuclear Actual Aggregated                                NaN\n",
      "Other Actual Aggregated                                  NaN\n",
      "Other renewable Actual Aggregated                        NaN\n",
      "Solar Actual Aggregated                                  NaN\n",
      "Waste Actual Aggregated                                  NaN\n",
      "Wind Offshore Actual Aggregated                          NaN\n",
      "Wind Onshore Actual Aggregated                           NaN\n",
      "Name: 2020-12-31 00:00:00+01:00, dtype: float64\n"
     ]
    }
   ],
   "source": [
    "print(df_cc.iloc[0], df_bz.iloc[0])"
   ]
  },
  {
   "cell_type": "code",
   "execution_count": 24,
   "id": "a45dfe53",
   "metadata": {},
   "outputs": [],
   "source": [
    "df_old = load_data(start_date_old, end_date_old, time_zone, api_key, country_code)"
   ]
  },
  {
   "cell_type": "code",
   "execution_count": 25,
   "id": "003bf727",
   "metadata": {},
   "outputs": [
    {
     "name": "stdout",
     "output_type": "stream",
     "text": [
      "New: Columns Index(['Actual Load', 'Biomass Actual Aggregated',\n",
      "       'Fossil Brown coal/Lignite Actual Aggregated',\n",
      "       'Fossil Gas Actual Aggregated', 'Fossil Hard coal Actual Aggregated',\n",
      "       'Fossil Oil Actual Aggregated', 'Fossil Oil Actual Consumption',\n",
      "       'Geothermal Actual Aggregated',\n",
      "       'Hydro Pumped Storage Actual Aggregated',\n",
      "       'Hydro Pumped Storage Actual Consumption',\n",
      "       'Hydro Run-of-river and poundage Actual Aggregated',\n",
      "       'Hydro Water Reservoir Actual Aggregated', 'Nuclear Actual Aggregated',\n",
      "       'Other Actual Aggregated', 'Other renewable Actual Aggregated',\n",
      "       'Solar Actual Aggregated', 'Waste Actual Aggregated',\n",
      "       'Wind Offshore Actual Aggregated', 'Wind Onshore Actual Aggregated'],\n",
      "      dtype='object') and shape (192, 19).\n",
      "Old: Columns Index(['Actual Load', 'Biomass Actual Aggregated',\n",
      "       'Biomass Actual Consumption',\n",
      "       'Fossil Brown coal/Lignite Actual Aggregated',\n",
      "       'Fossil Brown coal/Lignite Actual Consumption',\n",
      "       'Fossil Coal-derived gas Actual Aggregated',\n",
      "       'Fossil Coal-derived gas Actual Consumption',\n",
      "       'Fossil Gas Actual Aggregated', 'Fossil Gas Actual Consumption',\n",
      "       'Fossil Hard coal Actual Aggregated',\n",
      "       'Fossil Hard coal Actual Consumption', 'Fossil Oil Actual Aggregated',\n",
      "       'Fossil Oil Actual Consumption', 'Geothermal Actual Aggregated',\n",
      "       'Geothermal Actual Consumption',\n",
      "       'Hydro Pumped Storage Actual Aggregated',\n",
      "       'Hydro Pumped Storage Actual Consumption',\n",
      "       'Hydro Run-of-river and poundage Actual Aggregated',\n",
      "       'Hydro Run-of-river and poundage Actual Consumption',\n",
      "       'Hydro Water Reservoir Actual Aggregated',\n",
      "       'Hydro Water Reservoir Actual Consumption', 'Nuclear Actual Aggregated',\n",
      "       'Nuclear Actual Consumption', 'Other Actual Aggregated',\n",
      "       'Other Actual Consumption', 'Other renewable Actual Aggregated',\n",
      "       'Other renewable Actual Consumption', 'Solar Actual Aggregated',\n",
      "       'Solar Actual Consumption', 'Waste Actual Aggregated',\n",
      "       'Waste Actual Consumption', 'Wind Offshore Actual Aggregated',\n",
      "       'Wind Onshore Actual Aggregated', 'Wind Onshore Actual Consumption'],\n",
      "      dtype='object') and shape (5952, 34).\n",
      "Index(['Actual Load', 'Biomass Actual Aggregated',\n",
      "       'Fossil Brown coal/Lignite Actual Aggregated',\n",
      "       'Fossil Gas Actual Aggregated', 'Fossil Hard coal Actual Aggregated',\n",
      "       'Fossil Oil Actual Aggregated', 'Fossil Oil Actual Consumption',\n",
      "       'Geothermal Actual Aggregated',\n",
      "       'Hydro Pumped Storage Actual Aggregated',\n",
      "       'Hydro Pumped Storage Actual Consumption',\n",
      "       'Hydro Run-of-river and poundage Actual Aggregated',\n",
      "       'Hydro Water Reservoir Actual Aggregated', 'Nuclear Actual Aggregated',\n",
      "       'Other Actual Aggregated', 'Other renewable Actual Aggregated',\n",
      "       'Solar Actual Aggregated', 'Waste Actual Aggregated',\n",
      "       'Wind Offshore Actual Aggregated', 'Wind Onshore Actual Aggregated'],\n",
      "      dtype='object') (19,)\n",
      "[ True  True  True  True  True  True  True  True  True  True  True  True\n",
      "  True  True  True  True  True  True  True]\n",
      "Index(['Biomass Actual Consumption',\n",
      "       'Fossil Brown coal/Lignite Actual Consumption',\n",
      "       'Fossil Coal-derived gas Actual Aggregated',\n",
      "       'Fossil Coal-derived gas Actual Consumption',\n",
      "       'Fossil Gas Actual Consumption', 'Fossil Hard coal Actual Consumption',\n",
      "       'Geothermal Actual Consumption',\n",
      "       'Hydro Run-of-river and poundage Actual Consumption',\n",
      "       'Hydro Water Reservoir Actual Consumption',\n",
      "       'Nuclear Actual Consumption', 'Other Actual Consumption',\n",
      "       'Other renewable Actual Consumption', 'Solar Actual Consumption',\n",
      "       'Waste Actual Consumption', 'Wind Onshore Actual Consumption'],\n",
      "      dtype='object') (15,)\n"
     ]
    }
   ],
   "source": [
    "print(f\"New: Columns {df_new.columns} and shape {df_new.shape}.\")\n",
    "print(f\"Old: Columns {df_old.columns} and shape {df_old.shape}.\")\n",
    "columns_intersect = df_new.columns.intersection(df_old.columns)\n",
    "print(columns_intersect, columns_intersect.shape)\n",
    "print(df_new.columns == columns_intersect)\n",
    "columns_diff = df_old.columns.difference(df_new.columns)\n",
    "print(columns_diff, columns_diff.shape)"
   ]
  },
  {
   "cell_type": "code",
   "execution_count": 15,
   "id": "47d0549f",
   "metadata": {},
   "outputs": [],
   "source": [
    "# Check data-loading for time spans larger that 1y\n",
    "start_date = \"20190101\"\n",
    "end_date_1y = \"20200101\"\n",
    "end_date_2y = \"20210101\"\n",
    "country_code = \"DE_LU\"  # Germany (new bidding zone, valid since 2018/10/01)\n",
    "df_1y = load_data(start_date, end_date_1y, time_zone, api_key, country_code)\n",
    "df_2y = load_data(start_date, end_date_2y, time_zone, api_key, country_code)"
   ]
  },
  {
   "cell_type": "code",
   "execution_count": 18,
   "id": "c29e2f49",
   "metadata": {},
   "outputs": [
    {
     "name": "stdout",
     "output_type": "stream",
     "text": [
      "Index(['Actual Load', 'Biomass Actual Aggregated',\n",
      "       'Fossil Brown coal/Lignite Actual Aggregated',\n",
      "       'Fossil Gas Actual Aggregated', 'Fossil Hard coal Actual Aggregated',\n",
      "       'Fossil Oil Actual Aggregated', 'Fossil Oil Actual Consumption',\n",
      "       'Geothermal Actual Aggregated',\n",
      "       'Hydro Pumped Storage Actual Aggregated',\n",
      "       'Hydro Pumped Storage Actual Consumption',\n",
      "       'Hydro Run-of-river and poundage Actual Aggregated',\n",
      "       'Hydro Water Reservoir Actual Aggregated', 'Nuclear Actual Aggregated',\n",
      "       'Other Actual Aggregated', 'Other renewable Actual Aggregated',\n",
      "       'Solar Actual Aggregated', 'Waste Actual Aggregated',\n",
      "       'Wind Offshore Actual Aggregated', 'Wind Onshore Actual Aggregated'],\n",
      "      dtype='object') (19,)\n",
      "Index(['Fossil Coal-derived gas Actual Aggregated',\n",
      "       'Fossil Gas Actual Consumption',\n",
      "       'Hydro Water Reservoir Actual Consumption',\n",
      "       'Nuclear Actual Consumption'],\n",
      "      dtype='object') (4,)\n"
     ]
    }
   ],
   "source": [
    "#print(df_1y.shape, df_1y.columns)\n",
    "#print(df_2y.shape, df_2y.columns)\n",
    "columns_intersect = df_new.columns.intersection(df_1y.columns)\n",
    "print(columns_intersect, columns_intersect.shape)\n",
    "#print(df_new.columns == columns_intersect)\n",
    "columns_diff = df_1y.columns.difference(df_new.columns)\n",
    "print(columns_diff, columns_diff.shape)"
   ]
  },
  {
   "cell_type": "markdown",
   "id": "b9dabc64",
   "metadata": {},
   "source": [
    "### Complete parameter list\n",
    "https://transparency.entsoe.eu/content/static_content/Static%20content/web%20api/Guide.html#_complete_parameter_list\n",
    "\n",
    "### Queries returning Pandas Series\n",
    "\n",
    "`client.query_day_ahead_prices(country_code, start=start,end=end)` <br>\n",
    "`client.query_net_position(country_code, start=start, end=end, dayahead=True)` <br>\n",
    "`client.query_crossborder_flows(country_code_from, country_code_to, start, end)` <br>\n",
    "`client.query_scheduled_exchanges(country_code_from, country_code_to, start, end, dayahead=False)` <br>\n",
    "`client.query_net_transfer_capacity_dayahead(country_code_from, country_code_to, start, end)` <br>\n",
    "`client.query_net_transfer_capacity_weekahead(country_code_from, country_code_to, start, end)` <br>\n",
    "`client.query_net_transfer_capacity_monthahead(country_code_from, country_code_to, start, end)` <br>\n",
    "`client.query_net_transfer_capacity_yearahead(country_code_from, country_code_to, start, end)` <br>\n",
    "`client.query_intraday_offered_capacity(country_code_from, country_code_to, start, end,implicit=True)` <br>\n",
    "`client.query_offered_capacity(country_code_from, country_code_to, start, end, contract_marketagreement_type, implicit=True)` <br>\n",
    "`client.query_aggregate_water_reservoirs_and_hydro_storage(country_code, start, end)`\n",
    "\n",
    "### Queries returning Pandas DataFrames\n",
    "\n",
    "`client.query_load(country_code, start=start,end=end)` <br>\n",
    "`client.query_load_forecast(country_code, start=start,end=end)` <br>\n",
    "`client.query_load_and_forecast(country_code, start=start, end=end)` <br>\n",
    "`client.query_generation_forecast(country_code, start=start,end=end)` <br>\n",
    "`client.query_wind_and_solar_forecast(country_code, start=start,end=end, psr_type=None)` <br>\n",
    "`client.query_generation(country_code, start=start,end=end, psr_type=None)` <br>\n",
    "`client.query_generation_per_plant(country_code, start=start,end=end, psr_type=None)` <br>\n",
    "`client.query_installed_generation_capacity(country_code, start=start,end=end, psr_type=None)` <br>\n",
    "`client.query_installed_generation_capacity_per_unit(country_code, start=start,end=end, psr_type=None)` <br>\n",
    "`client.query_imbalance_prices(country_code, start=start,end=end, psr_type=None)` <br>\n",
    "`client.query_contracted_reserve_prices(country_code, start, end, type_marketagreement_type, psr_type=None)` <br>\n",
    "`client.query_contracted_reserve_amount(country_code, start, end, type_marketagreement_type, psr_type=None)` <br>\n",
    "`client.query_unavailability_of_generation_units(country_code, start=start,end=end, docstatus=None, periodstartupdate=None, periodendupdate=None)` <br>\n",
    "`client.query_unavailability_of_production_units(country_code, start, end, docstatus=None, periodstartupdate=None, periodendupdate=None)` <br>\n",
    "`client.query_unavailability_transmission(country_code_from, country_code_to, start, end, docstatus=None, periodstartupdate=None, periodendupdate=None)` <br>\n",
    "`client.query_withdrawn_unavailability_of_generation_units(country_code, start, end)` <br>\n",
    "`client.query_import(country_code, start, end)` <br>\n",
    "`client.query_generation_import(country_code, start, end)` <br>\n",
    "`client.query_procured_balancing_capacity(country_code, start, end, process_type, type_marketagreement_type=None)`"
   ]
  },
  {
   "cell_type": "markdown",
   "id": "f5c395d5",
   "metadata": {},
   "source": [
    "## Load data from client"
   ]
  },
  {
   "cell_type": "code",
   "execution_count": null,
   "id": "838b59be",
   "metadata": {},
   "outputs": [],
   "source": [
    "df = pd.DataFrame()\n",
    "df[\"load forecast\"] = client.query_load_forecast(country_code, start=start,end=end)\n",
    "df[\"load\"] = client.query_load(country_code, start=start,end=end)\n",
    "df[\"load forecast error\"] = df[\"load forecast\"] - df[\"load\"]\n",
    "df[\"generation forecast\"] = client.query_generation_forecast(country_code, start=start,end=end)"
   ]
  },
  {
   "cell_type": "code",
   "execution_count": null,
   "id": "f1bc6df9",
   "metadata": {},
   "outputs": [],
   "source": [
    "df_gen = client.query_generation(country_code, start=start,end=end, psr_type=None)\n",
    "df_gen.head()"
   ]
  },
  {
   "cell_type": "code",
   "execution_count": null,
   "id": "64521a20",
   "metadata": {},
   "outputs": [],
   "source": [
    "df_gen.xs(key=\"Actual Aggregated\", level=1, axis=1)"
   ]
  },
  {
   "cell_type": "code",
   "execution_count": null,
   "id": "0f0978cd",
   "metadata": {
    "scrolled": false
   },
   "outputs": [],
   "source": [
    "fig, ax = plt.subplots(figsize=(14,7))\n",
    "ax.plot(df_gen.xs(key=\"Actual Aggregated\", level=1, axis=1))\n",
    "ax.legend()"
   ]
  },
  {
   "cell_type": "code",
   "execution_count": null,
   "id": "38eebb4d",
   "metadata": {},
   "outputs": [],
   "source": [
    "df[\"generation\"] = df_gen.sum(axis=1)"
   ]
  },
  {
   "cell_type": "code",
   "execution_count": null,
   "id": "525f040d",
   "metadata": {},
   "outputs": [],
   "source": [
    "df[\"generation forecast error\"] = df[\"generation forecast\"] - df[\"generation\"]"
   ]
  },
  {
   "cell_type": "code",
   "execution_count": null,
   "id": "b14b9c6c",
   "metadata": {
    "scrolled": true
   },
   "outputs": [],
   "source": [
    "px.line(df)"
   ]
  },
  {
   "cell_type": "markdown",
   "id": "af87d813",
   "metadata": {},
   "source": [
    "## Save to csv file"
   ]
  },
  {
   "cell_type": "code",
   "execution_count": null,
   "id": "b82506c5",
   "metadata": {},
   "outputs": [],
   "source": [
    "df.to_csv('entsoe.csv')"
   ]
  }
 ],
 "metadata": {
  "kernelspec": {
   "display_name": "Python 3 (ipykernel)",
   "language": "python",
   "name": "python3"
  },
  "language_info": {
   "codemirror_mode": {
    "name": "ipython",
    "version": 3
   },
   "file_extension": ".py",
   "mimetype": "text/x-python",
   "name": "python",
   "nbconvert_exporter": "python",
   "pygments_lexer": "ipython3",
   "version": "3.10.6"
  }
 },
 "nbformat": 4,
 "nbformat_minor": 5
}
