{
 "cells": [
  {
   "cell_type": "code",
   "execution_count": 1,
   "id": "3297a65f",
   "metadata": {},
   "outputs": [
    {
     "name": "stdout",
     "output_type": "stream",
     "text": [
      "F:\\ai_voucher\\MeritOrderPrediction\n"
     ]
    }
   ],
   "source": [
    "project_home = %env PROJECT_HOME\n",
    "%cd $project_home"
   ]
  },
  {
   "cell_type": "code",
   "execution_count": 2,
   "id": "8a84800e",
   "metadata": {},
   "outputs": [],
   "source": [
    "from entsoe import EntsoePandasClient\n",
    "import pandas as pd\n",
    "import plotly.express as px"
   ]
  },
  {
   "cell_type": "markdown",
   "id": "f4423a8b",
   "metadata": {},
   "source": [
    "## initialization of entsoe client parameters"
   ]
  },
  {
   "cell_type": "code",
   "execution_count": 3,
   "id": "eaafbcf9",
   "metadata": {},
   "outputs": [],
   "source": [
    "client = EntsoePandasClient(api_key=\"c2edbb7e-d73a-4601-ae30-f1a5194baaa8\")\n",
    "\n",
    "start = pd.Timestamp('20200101', tz='Europe/Berlin')\n",
    "end = pd.Timestamp('20221214', tz='Europe/Berlin')\n",
    "country_code = 'DE_LU'  # Belgium\n",
    "country_code_from = 'FR'  # France\n",
    "#country_code_to = 'DE_LU' # Germany-Luxembourg\n",
    "#type_marketagreement_type = 'A01'\n",
    "#contract_marketagreement_type = 'A01'\n"
   ]
  },
  {
   "cell_type": "markdown",
   "id": "984c0162",
   "metadata": {},
   "source": [
    "# methods that return Pandas Series\n",
    "client.query_day_ahead_prices(country_code, start=start,end=end)\n",
    "client.query_net_position(country_code, start=start, end=end, dayahead=True)\n",
    "client.query_crossborder_flows(country_code_from, country_code_to, start, end)\n",
    "client.query_scheduled_exchanges(country_code_from, country_code_to, start, end, dayahead=False)\n",
    "client.query_net_transfer_capacity_dayahead(country_code_from, country_code_to, start, end)\n",
    "client.query_net_transfer_capacity_weekahead(country_code_from, country_code_to, start, end)\n",
    "client.query_net_transfer_capacity_monthahead(country_code_from, country_code_to, start, end)\n",
    "client.query_net_transfer_capacity_yearahead(country_code_from, country_code_to, start, end)\n",
    "client.query_intraday_offered_capacity(country_code_from, country_code_to, start, end,implicit=True)\n",
    "client.query_offered_capacity(country_code_from, country_code_to, start, end, contract_marketagreement_type, implicit=True)\n",
    "client.query_aggregate_water_reservoirs_and_hydro_storage(country_code, start, end)\n",
    "\n",
    "# methods that return Pandas DataFrames\n",
    "client.query_load(country_code, start=start,end=end)\n",
    "client.query_load_forecast(country_code, start=start,end=end)\n",
    "client.query_load_and_forecast(country_code, start=start, end=end)\n",
    "client.query_generation_forecast(country_code, start=start,end=end)\n",
    "client.query_wind_and_solar_forecast(country_code, start=start,end=end, psr_type=None)\n",
    "client.query_generation(country_code, start=start,end=end, psr_type=None)\n",
    "client.query_generation_per_plant(country_code, start=start,end=end, psr_type=None)\n",
    "client.query_installed_generation_capacity(country_code, start=start,end=end, psr_type=None)\n",
    "client.query_installed_generation_capacity_per_unit(country_code, start=start,end=end, psr_type=None)\n",
    "client.query_imbalance_prices(country_code, start=start,end=end, psr_type=None)\n",
    "client.query_contracted_reserve_prices(country_code, start, end, type_marketagreement_type, psr_type=None)\n",
    "client.query_contracted_reserve_amount(country_code, start, end, type_marketagreement_type, psr_type=None)\n",
    "client.query_unavailability_of_generation_units(country_code, start=start,end=end, docstatus=None, periodstartupdate=None, periodendupdate=None)\n",
    "client.query_unavailability_of_production_units(country_code, start, end, docstatus=None, periodstartupdate=None, periodendupdate=None)\n",
    "client.query_unavailability_transmission(country_code_from, country_code_to, start, end, docstatus=None, periodstartupdate=None, periodendupdate=None)\n",
    "client.query_withdrawn_unavailability_of_generation_units(country_code, start, end)\n",
    "client.query_import(country_code, start, end)\n",
    "client.query_generation_import(country_code, start, end)\n",
    "client.query_procured_balancing_capacity(country_code, start, end, process_type, type_marketagreement_type=None)"
   ]
  },
  {
   "cell_type": "markdown",
   "id": "034f13f3",
   "metadata": {},
   "source": [
    "## Load data from client"
   ]
  },
  {
   "cell_type": "code",
   "execution_count": 4,
   "id": "1bb50aee",
   "metadata": {},
   "outputs": [],
   "source": [
    "df = pd.DataFrame()"
   ]
  },
  {
   "cell_type": "code",
   "execution_count": 5,
   "id": "838b59be",
   "metadata": {},
   "outputs": [],
   "source": [
    "df[\"load forecast\"] = client.query_load_forecast(country_code, start=start,end=end)"
   ]
  },
  {
   "cell_type": "code",
   "execution_count": 6,
   "id": "ab71aa81",
   "metadata": {},
   "outputs": [],
   "source": [
    "df[\"load\"] = client.query_load(country_code, start=start,end=end)"
   ]
  },
  {
   "cell_type": "code",
   "execution_count": 8,
   "id": "fe09c18b",
   "metadata": {},
   "outputs": [],
   "source": [
    "df[\"load forecast error\"] = df[\"load forecast\"] - df[\"load\"]"
   ]
  },
  {
   "cell_type": "code",
   "execution_count": 9,
   "id": "b42e8e55",
   "metadata": {},
   "outputs": [],
   "source": [
    "df[\"generation forecast\"] = client.query_generation_forecast(country_code, start=start,end=end)\n"
   ]
  },
  {
   "cell_type": "code",
   "execution_count": null,
   "id": "9544ce3e",
   "metadata": {},
   "outputs": [],
   "source": [
    "df[\"generation\"] = client.query_generation(country_code, start=start,end=end, psr_type=None)"
   ]
  },
  {
   "cell_type": "code",
   "execution_count": null,
   "id": "bbc7df3e",
   "metadata": {},
   "outputs": [],
   "source": [
    "df[\"generation forecast error\"] = df[\"generation forecast\"] - df[\"generation\"]"
   ]
  },
  {
   "cell_type": "code",
   "execution_count": null,
   "id": "b621bb1a",
   "metadata": {
    "scrolled": false
   },
   "outputs": [],
   "source": [
    "px.line(df)"
   ]
  },
  {
   "cell_type": "markdown",
   "id": "a68216d9",
   "metadata": {},
   "source": [
    "## Save to csv file"
   ]
  },
  {
   "cell_type": "code",
   "execution_count": null,
   "id": "b82506c5",
   "metadata": {},
   "outputs": [],
   "source": [
    "ts = client.query_generation_per_plant(country_code, start=start, end=end)\n",
    "ts.to_csv('outfile.csv')"
   ]
  },
  {
   "cell_type": "code",
   "execution_count": null,
   "id": "6390f989",
   "metadata": {},
   "outputs": [],
   "source": []
  }
 ],
 "metadata": {
  "kernelspec": {
   "display_name": "Python 3 (ipykernel)",
   "language": "python",
   "name": "python3"
  },
  "language_info": {
   "codemirror_mode": {
    "name": "ipython",
    "version": 3
   },
   "file_extension": ".py",
   "mimetype": "text/x-python",
   "name": "python",
   "nbconvert_exporter": "python",
   "pygments_lexer": "ipython3",
   "version": "3.9.15"
  }
 },
 "nbformat": 4,
 "nbformat_minor": 5
}
