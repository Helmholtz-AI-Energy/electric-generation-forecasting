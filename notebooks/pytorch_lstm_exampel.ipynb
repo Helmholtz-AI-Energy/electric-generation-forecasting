{
 "cells": [
  {
   "cell_type": "code",
   "execution_count": 1,
   "id": "ff5d01df",
   "metadata": {},
   "outputs": [
    {
     "name": "stdout",
     "output_type": "stream",
     "text": [
      "F:\\ai_voucher\\MeritOrderPrediction\n"
     ]
    }
   ],
   "source": [
    "project_home = %env PROJECT_HOME\n",
    "%cd $project_home"
   ]
  },
  {
   "cell_type": "code",
   "execution_count": 2,
   "id": "b6c40f30",
   "metadata": {},
   "outputs": [],
   "source": [
    "import matplotlib.pyplot as plt\n",
    "import numpy as np\n",
    "import pandas as pd\n",
    "import torch\n",
    "import torch.nn as nn\n",
    "import torch.optim as optim\n",
    "import torch.utils.data as data\n",
    "from torch.nn.init import xavier_uniform_"
   ]
  },
  {
   "cell_type": "code",
   "execution_count": 3,
   "id": "3d75c933",
   "metadata": {},
   "outputs": [],
   "source": [
    "# https://machinelearningmastery.com/lstm-for-time-series-prediction-in-pytorch/"
   ]
  },
  {
   "cell_type": "markdown",
   "id": "a5f3ead4",
   "metadata": {},
   "source": [
    "## Read Data"
   ]
  },
  {
   "cell_type": "code",
   "execution_count": 4,
   "id": "08a3a9b1",
   "metadata": {},
   "outputs": [],
   "source": [
    "df_load = pd.read_csv(\"./data/load_data.csv\",\n",
    "                   header=[0],\n",
    "                   index_col=0,\n",
    "                   parse_dates=True\n",
    "                  )\n",
    "\n",
    "df_load.index = pd.to_datetime(df_load.index,\n",
    "                            utc=True\n",
    "                           ).tz_convert(tz=\"Europe/Berlin\")\n",
    "\n"
   ]
  },
  {
   "cell_type": "code",
   "execution_count": 5,
   "id": "cb2b8851",
   "metadata": {},
   "outputs": [],
   "source": [
    "df_load = df_load[\"2022-01\":\"2022-12\"]"
   ]
  },
  {
   "cell_type": "code",
   "execution_count": 6,
   "id": "65f422fd",
   "metadata": {},
   "outputs": [],
   "source": [
    "df_values = df_load[[\"load\"]].values.astype('float32')"
   ]
  },
  {
   "cell_type": "markdown",
   "id": "89674fca",
   "metadata": {},
   "source": [
    "# train-test split for dataset"
   ]
  },
  {
   "cell_type": "code",
   "execution_count": 7,
   "id": "091021a9",
   "metadata": {},
   "outputs": [],
   "source": [
    "train_size = int(len(df_load[\"load\"][\"2022-01\":\"2022-08\"]))\n",
    "test_size = len(df_load[\"load\"]) - train_size\n",
    "train, test = df_values[:train_size], df_values[train_size:]"
   ]
  },
  {
   "cell_type": "code",
   "execution_count": 8,
   "id": "c256bdbc",
   "metadata": {},
   "outputs": [],
   "source": [
    "def create_dataset(dataset, lookback):\n",
    "    \"\"\"Transform a time series into a prediction dataset\n",
    "    \n",
    "    Args:\n",
    "        dataset: A numpy array of time series, first dimension is the time steps\n",
    "        lookback: Size of window for prediction\n",
    "    \"\"\"\n",
    "    X, y = [], []\n",
    "    for i in range(len(dataset)-lookback):\n",
    "        feature = dataset[i:i+lookback]\n",
    "        target = dataset[i+1:i+lookback+1]\n",
    "        X.append(feature)\n",
    "        y.append(target)\n",
    "    return torch.tensor(X), torch.tensor(y)"
   ]
  },
  {
   "cell_type": "code",
   "execution_count": 9,
   "id": "43ceee6f",
   "metadata": {},
   "outputs": [
    {
     "name": "stderr",
     "output_type": "stream",
     "text": [
      "C:\\Users\\Messaccount\\AppData\\Local\\Temp\\ipykernel_19104\\778121417.py:14: UserWarning: Creating a tensor from a list of numpy.ndarrays is extremely slow. Please consider converting the list to a single numpy.ndarray with numpy.array() before converting to a tensor. (Triggered internally at C:\\cb\\pytorch_1000000000000\\work\\torch\\csrc\\utils\\tensor_new.cpp:233.)\n",
      "  return torch.tensor(X), torch.tensor(y)\n"
     ]
    }
   ],
   "source": [
    "lookback = 96 # Size of window for prediction\n",
    "X_train, y_train = create_dataset(train, lookback=lookback)\n",
    "X_test, y_test = create_dataset(test, lookback=lookback)"
   ]
  },
  {
   "cell_type": "code",
   "execution_count": 10,
   "id": "d9da8374",
   "metadata": {},
   "outputs": [
    {
     "name": "stdout",
     "output_type": "stream",
     "text": [
      "torch.Size([23228, 96, 1]) torch.Size([23228, 96, 1])\n",
      "torch.Size([11524, 96, 1]) torch.Size([11524, 96, 1])\n"
     ]
    }
   ],
   "source": [
    "print(X_train.shape, y_train.shape)\n",
    "print(X_test.shape, y_test.shape)"
   ]
  },
  {
   "cell_type": "markdown",
   "id": "e62c2bdc",
   "metadata": {},
   "source": [
    "# Define model"
   ]
  },
  {
   "cell_type": "code",
   "execution_count": 11,
   "id": "871b9173",
   "metadata": {},
   "outputs": [],
   "source": [
    "class LoadModel(nn.Module):\n",
    "    def __init__(self):\n",
    "        super().__init__()\n",
    "        self.lstm = nn.LSTM(input_size=1, hidden_size=96, num_layers=1, batch_first=True)\n",
    "        self.linear = nn.Linear(96, 1)\n",
    "    def forward(self, x):\n",
    "        x, _ = self.lstm(x)\n",
    "        x = self.linear(x)\n",
    "        return x"
   ]
  },
  {
   "cell_type": "code",
   "execution_count": 12,
   "id": "6d13ff17",
   "metadata": {},
   "outputs": [],
   "source": [
    "model = LoadModel()\n",
    "optimizer = optim.Adam(model.parameters())\n",
    "loss_fn = nn.MSELoss()\n",
    "loader = data.DataLoader(data.TensorDataset(X_train, y_train), shuffle=True, batch_size=12)"
   ]
  },
  {
   "cell_type": "markdown",
   "id": "225166f9",
   "metadata": {},
   "source": [
    "# Train and predict"
   ]
  },
  {
   "cell_type": "code",
   "execution_count": 13,
   "id": "483c87a1",
   "metadata": {},
   "outputs": [
    {
     "name": "stdout",
     "output_type": "stream",
     "text": [
      "0\n",
      "Epoch 0: train RMSE 56691.5039, test RMSE 54870.2031\n",
      "10\n",
      "Epoch 10: train RMSE 56218.0703, test RMSE 54395.8789\n",
      "20\n",
      "Epoch 20: train RMSE 55744.7461, test RMSE 53921.6445\n",
      "30\n",
      "Epoch 30: train RMSE 55271.5742, test RMSE 53447.5508\n",
      "40\n",
      "Epoch 40: train RMSE 54798.5430, test RMSE 52973.5898\n",
      "50\n",
      "Epoch 50: train RMSE 54325.6680, test RMSE 52499.7734\n",
      "60\n",
      "Epoch 60: train RMSE 53852.9375, test RMSE 52026.0898\n",
      "70\n",
      "Epoch 70: train RMSE 53380.3242, test RMSE 51552.5078\n",
      "80\n",
      "Epoch 80: train RMSE 52907.9219, test RMSE 51079.1133\n",
      "90\n",
      "Epoch 90: train RMSE 52435.6758, test RMSE 50605.8789\n"
     ]
    }
   ],
   "source": [
    "n_epochs = 100\n",
    "for epoch in range(n_epochs):\n",
    "    model.train()\n",
    "    for X_batch, y_batch in loader:\n",
    "        y_pred = model(X_batch)\n",
    "        loss = loss_fn(y_pred, y_batch)\n",
    "        optimizer.zero_grad()\n",
    "        loss.backward()\n",
    "        optimizer.step()\n",
    "    # Validation\n",
    "    if epoch % 10 != 0:\n",
    "        continue\n",
    "    model.eval()\n",
    "    with torch.no_grad():\n",
    "        y_pred = model(X_train)\n",
    "        train_rmse = np.sqrt(loss_fn(y_pred, y_train))\n",
    "        y_pred = model(X_test)\n",
    "        test_rmse = np.sqrt(loss_fn(y_pred, y_test))\n",
    "    print(epoch)\n",
    "    print(\"Epoch %d: train RMSE %.4f, test RMSE %.4f\" % (epoch, train_rmse, test_rmse))"
   ]
  },
  {
   "cell_type": "code",
   "execution_count": 14,
   "id": "61ebfc54",
   "metadata": {},
   "outputs": [],
   "source": [
    "with torch.no_grad():\n",
    "    # shift train predictions for plotting\n",
    "    train_plot = np.ones_like(df_values) * np.nan\n",
    "    y_pred = model(X_train)\n",
    "    y_pred = y_pred[:, -1, :]\n",
    "    train_plot[lookback:train_size] = model(X_train)[:, -1, :]\n",
    "    # shift test predictions for plotting\n",
    "    test_plot = np.ones_like(df_values) * np.nan\n",
    "    test_plot[train_size+lookback:len(df_values)] = model(X_test)[:, -1, :]"
   ]
  },
  {
   "cell_type": "code",
   "execution_count": 16,
   "id": "a346adb3",
   "metadata": {},
   "outputs": [
    {
     "data": {
      "image/png": "[encoded data removed]",
      "text/plain": [
       "<Figure size 640x480 with 1 Axes>"
      ]
     },
     "metadata": {},
     "output_type": "display_data"
    }
   ],
   "source": [
    "# plot\n",
    "#plt.plot(df_values)\n",
    "plt.plot(train_plot, c='r')\n",
    "plt.plot(test_plot, c='g')\n",
    "plt.show()"
   ]
  },
  {
   "cell_type": "code",
   "execution_count": null,
   "id": "7c7e8244",
   "metadata": {},
   "outputs": [],
   "source": []
  }
 ],
 "metadata": {
  "kernelspec": {
   "display_name": "Python 3 (ipykernel)",
   "language": "python",
   "name": "python3"
  },
  "language_info": {
   "codemirror_mode": {
    "name": "ipython",
    "version": 3
   },
   "file_extension": ".py",
   "mimetype": "text/x-python",
   "name": "python",
   "nbconvert_exporter": "python",
   "pygments_lexer": "ipython3",
   "version": "3.9.15"
  }
 },
 "nbformat": 4,
 "nbformat_minor": 5
}
